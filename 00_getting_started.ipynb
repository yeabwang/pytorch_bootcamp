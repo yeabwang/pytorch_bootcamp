{
  "nbformat": 4,
  "nbformat_minor": 0,
  "metadata": {
    "colab": {
      "provenance": [],
      "gpuType": "A100",
      "authorship_tag": "ABX9TyOHVZmpP4feWXpjvAs5surq",
      "include_colab_link": true
    },
    "kernelspec": {
      "name": "python3",
      "display_name": "Python 3"
    },
    "language_info": {
      "name": "python"
    },
    "accelerator": "GPU"
  },
  "cells": [
    {
      "cell_type": "markdown",
      "metadata": {
        "id": "view-in-github",
        "colab_type": "text"
      },
      "source": [
        "<a href=\"https://colab.research.google.com/github/yeabwang/pytorch_bootcamp/blob/main/00_getting_started.ipynb\" target=\"_parent\"><img src=\"https://colab.research.google.com/assets/colab-badge.svg\" alt=\"Open In Colab\"/></a>"
      ]
    },
    {
      "cell_type": "code",
      "source": [
        "import torch\n",
        "import numpy as np"
      ],
      "metadata": {
        "id": "AFXbUp6Elg0Q"
      },
      "execution_count": 3,
      "outputs": []
    },
    {
      "cell_type": "code",
      "source": [
        "torch.__version__\n"
      ],
      "metadata": {
        "colab": {
          "base_uri": "https://localhost:8080/",
          "height": 36
        },
        "id": "Qwr2aKaSlo_u",
        "outputId": "55ba4dba-66cc-4190-8be9-468745b03405"
      },
      "execution_count": null,
      "outputs": [
        {
          "output_type": "execute_result",
          "data": {
            "text/plain": [
              "'2.8.0+cu126'"
            ],
            "application/vnd.google.colaboratory.intrinsic+json": {
              "type": "string"
            }
          },
          "metadata": {},
          "execution_count": 2
        }
      ]
    },
    {
      "cell_type": "markdown",
      "source": [
        "## Whats Tensor\n",
        "Tensor is multi dimensional numerical representation, which can be used to represenent various data as texts, images, audios and so on.\n",
        "\n",
        "Based on their dimension we can divide them into four main parts:\n",
        "\n",
        "- Scalars → 0D tensor\n",
        "\n",
        "- Vectors → 1D tensor (shape:\n",
        "(n,))\n",
        "\n",
        "- Matrices → 2D tensor (shape:\n",
        "(m,n))\n",
        "\n",
        "- Higher-order tensors → 3D+\n",
        "\n",
        "``` torch.tensor(7)``` - This will create a scalar tensor \\n\n",
        "```torch.tensor([3,224,224])``` - This will create a vector tensor.[link text](https://)"
      ],
      "metadata": {
        "id": "furcxPZ_mg3R"
      }
    },
    {
      "cell_type": "code",
      "source": [
        "# Scalar tensors\n",
        "\n",
        "scalar_tensor = torch.tensor(7)\n",
        "\n",
        "print(scalar_tensor) # Printing the value of our tensor\n",
        "print(scalar_tensor.shape) # Printing shape of our created tensor\n",
        "print(scalar_tensor.ndim) # Printing the dimension of our tensor\n",
        "print(scalar_tensor.item()) # Get the actual value of our tensor in int format"
      ],
      "metadata": {
        "colab": {
          "base_uri": "https://localhost:8080/"
        },
        "id": "Xl6O6qjJnZrL",
        "outputId": "7b719ee8-bbab-42f2-8c31-35d84f89b27a"
      },
      "execution_count": null,
      "outputs": [
        {
          "output_type": "stream",
          "name": "stdout",
          "text": [
            "tensor(7)\n",
            "torch.Size([])\n",
            "0\n",
            "7\n"
          ]
        }
      ]
    },
    {
      "cell_type": "code",
      "source": [
        "# Vector tensors\n",
        "\n",
        "vector_tensor = torch.tensor([3,4])\n",
        "\n",
        "print(vector_tensor)\n",
        "print(vector_tensor.shape)\n",
        "print(vector_tensor.ndim)\n"
      ],
      "metadata": {
        "colab": {
          "base_uri": "https://localhost:8080/"
        },
        "id": "KeXM1jgGpdYj",
        "outputId": "06e85c24-3893-4681-a832-3b0b66a61da9"
      },
      "execution_count": null,
      "outputs": [
        {
          "output_type": "stream",
          "name": "stdout",
          "text": [
            "tensor([3, 4])\n",
            "torch.Size([2])\n",
            "1\n"
          ]
        }
      ]
    },
    {
      "cell_type": "code",
      "source": [
        "# Matrix tensors\n",
        "\n",
        "matrix = torch.tensor([[3,4], [5,6]])\n",
        "\n",
        "print(matrix)\n",
        "print(matrix.ndim)\n",
        "print(matrix.shape)\n",
        "print(matrix[0])"
      ],
      "metadata": {
        "colab": {
          "base_uri": "https://localhost:8080/"
        },
        "id": "cstJd2Rq-2uR",
        "outputId": "d6ea8546-afe5-44f3-abf9-cbd4cf909466"
      },
      "execution_count": null,
      "outputs": [
        {
          "output_type": "stream",
          "name": "stdout",
          "text": [
            "tensor([[3, 4],\n",
            "        [5, 6]])\n",
            "2\n",
            "torch.Size([2, 2])\n",
            "tensor([3, 4])\n"
          ]
        }
      ]
    },
    {
      "cell_type": "code",
      "source": [
        "# Higher order tensor\n",
        "\n",
        "higher_dim = torch.tensor([[1,2,3],[4,5,6],[7,8,9]])\n",
        "higher_dim = torch.tensor([[1,2,3],[4,5,6],[7,8,9]])\n",
        "print(higher_dim)\n",
        "print(higher_dim.shape)\n",
        "print(higher_dim.ndim)"
      ],
      "metadata": {
        "colab": {
          "base_uri": "https://localhost:8080/"
        },
        "id": "BstVJqfM_YDm",
        "outputId": "8d1bc3df-9477-4da5-dfc7-fa40b710709d"
      },
      "execution_count": 2,
      "outputs": [
        {
          "output_type": "stream",
          "name": "stdout",
          "text": [
            "tensor([[1, 2, 3],\n",
            "        [4, 5, 6],\n",
            "        [7, 8, 9]])\n",
            "torch.Size([3, 3])\n",
            "2\n"
          ]
        }
      ]
    },
    {
      "cell_type": "code",
      "source": [
        "# Tensor Operations\n",
        "\n",
        "## Element Wise operations\n",
        "\n",
        "higher_dim * 10\n",
        "\n",
        "# Matrix wise multiplication ( a = (row,col) and b = (row,col) here \"a col\" has to match with \"b row\")\n",
        "random_mat = torch.randint(low=1, high=10, size=(3,3))\n",
        "\n",
        "torch.matmul(random_mat, higher_dim)"
      ],
      "metadata": {
        "colab": {
          "base_uri": "https://localhost:8080/"
        },
        "id": "bA93imGt5bWR",
        "outputId": "f934c4ba-4515-46da-bafe-43626b10c152"
      },
      "execution_count": 11,
      "outputs": [
        {
          "output_type": "execute_result",
          "data": {
            "text/plain": [
              "tensor([[ 81,  99, 117],\n",
              "        [ 32,  40,  48],\n",
              "        [ 54,  72,  90]])"
            ]
          },
          "metadata": {},
          "execution_count": 11
        }
      ]
    },
    {
      "cell_type": "code",
      "source": [
        "linear = torch.nn.Linear(in_features=3, out_features=4)\n",
        "\n",
        "x = linear(random_mat.float())\n",
        "print(x)"
      ],
      "metadata": {
        "colab": {
          "base_uri": "https://localhost:8080/"
        },
        "id": "D3FqtSFx7NJ-",
        "outputId": "e1b074c5-68bd-4496-9639-72a8f06336a5"
      },
      "execution_count": 13,
      "outputs": [
        {
          "output_type": "stream",
          "name": "stdout",
          "text": [
            "tensor([[-3.6481,  4.1951,  6.3941, -2.2261],\n",
            "        [-0.6880,  2.7681, -0.5617, -2.3045],\n",
            "        [-1.3869,  4.2551,  3.6974, -5.7819]], grad_fn=<AddmmBackward0>)\n"
          ]
        }
      ]
    },
    {
      "cell_type": "code",
      "source": [
        "my_arr = torch.arange(1,10) # supports only one d dimn\n",
        "\n",
        "my_arr.min(), my_arr.max(), my_arr.mean(dtype=torch.float32), my_arr.median(), my_arr.argmax(), my_arr.argmin()"
      ],
      "metadata": {
        "colab": {
          "base_uri": "https://localhost:8080/"
        },
        "id": "-hXNReIRCGX-",
        "outputId": "0ca3c189-75bd-4c50-ecf0-847674a73a0f"
      },
      "execution_count": 20,
      "outputs": [
        {
          "output_type": "execute_result",
          "data": {
            "text/plain": [
              "(tensor(1), tensor(9), tensor(5.), tensor(5), tensor(8), tensor(0))"
            ]
          },
          "metadata": {},
          "execution_count": 20
        }
      ]
    },
    {
      "cell_type": "code",
      "source": [
        "my_arr.dtype, my_arr.type(dtype=torch.float16)"
      ],
      "metadata": {
        "colab": {
          "base_uri": "https://localhost:8080/"
        },
        "id": "aJTM544xC4Mn",
        "outputId": "12b06fe8-1d2d-4e84-9182-fa3873d578af"
      },
      "execution_count": 24,
      "outputs": [
        {
          "output_type": "execute_result",
          "data": {
            "text/plain": [
              "(torch.int64,\n",
              " tensor([1., 2., 3., 4., 5., 6., 7., 8., 9.], dtype=torch.float16))"
            ]
          },
          "metadata": {},
          "execution_count": 24
        }
      ]
    },
    {
      "cell_type": "code",
      "source": [
        "# Reshaping, stacking, squeezing and unsqueezing\n",
        "\n",
        "## reshaping\n",
        "to_reshape = torch.randint(1,10, size=(3,4))\n",
        "to_reshape.reshape(shape=(2,6)) # reshape the matrix without actually changing the data and also keeps the original\n",
        "\n",
        "## stacking\n",
        "to_be_stacked_a = torch.randint(low=1, high=10, size=(1,10))\n",
        "to_be_stacked_b = torch.randint(low=1, high=10, size=(1,10))\n",
        "to_be_stacked_c = torch.randint(low=1, high=10, size=(1,10))\n",
        "\n",
        "stacked_col = torch.stack([to_be_stacked_a,to_be_stacked_b,to_be_stacked_c], dim=1)\n",
        "stacked_row = torch.stack([to_be_stacked_a,to_be_stacked_b,to_be_stacked_c], dim=0)\n",
        "\n",
        "# print(stacked_row)\n",
        "# print(stacked_col)\n",
        "\n",
        "## Squeeze\n",
        "x = torch.zeros(1, 3, 1, 5)   # shape (1,3,1,5)\n",
        "print(x.shape)                # torch.Size([1,3,1,5])\n",
        "\n",
        "y = torch.squeeze(x)          # removes dims of size 1\n",
        "print(y.shape)                # torch.Size([3,5])\n",
        "\n",
        "## Unsquezze\n",
        "z = torch.unsqueeze(x, dim=0)\n",
        "print(z.shape)\n",
        "\n",
        "# Permute - shares the same data\n",
        "k =  torch.permute(higher_dim,(1,0))\n",
        "print(f\"Before permute \\n {higher_dim}\")\n",
        "print(f\"After permute \\n {k}\")\n",
        "print(\"hhh\")\n",
        "higher_dim[0:2, 0:1]"
      ],
      "metadata": {
        "colab": {
          "base_uri": "https://localhost:8080/"
        },
        "id": "K3TWMCs8GDV_",
        "outputId": "69ed90be-1a16-4525-bcaa-59d04e625a94"
      },
      "execution_count": 66,
      "outputs": [
        {
          "output_type": "stream",
          "name": "stdout",
          "text": [
            "torch.Size([1, 3, 1, 5])\n",
            "torch.Size([3, 5])\n",
            "torch.Size([1, 1, 3, 1, 5])\n",
            "Before permute \n",
            " tensor([[1, 2, 3],\n",
            "        [4, 5, 6],\n",
            "        [7, 8, 9]])\n",
            "After permute \n",
            " tensor([[1, 4, 7],\n",
            "        [2, 5, 8],\n",
            "        [3, 6, 9]])\n",
            "hhh\n"
          ]
        },
        {
          "output_type": "execute_result",
          "data": {
            "text/plain": [
              "tensor([[1],\n",
              "        [4]])"
            ]
          },
          "metadata": {},
          "execution_count": 66
        }
      ]
    },
    {
      "cell_type": "code",
      "source": [
        "## Working with numpy\n",
        "\n",
        "num_arr = np.random.randint(low=1,high=10, size=(2,3))\n",
        "changed_to_tensor = torch.from_numpy(num_arr).type(torch.float32)\n",
        "changed_back = torch.Tensor.numpy(changed_to_tensor)\n",
        "num_arr, changed_to_tensor, changed_back\n"
      ],
      "metadata": {
        "colab": {
          "base_uri": "https://localhost:8080/"
        },
        "id": "XFiQzpgwGe8N",
        "outputId": "c1aafb62-0e9d-494d-d8cc-b65e715ee1fa"
      },
      "execution_count": 73,
      "outputs": [
        {
          "output_type": "execute_result",
          "data": {
            "text/plain": [
              "(array([[2, 6, 7],\n",
              "        [6, 7, 3]]),\n",
              " tensor([[2., 6., 7.],\n",
              "         [6., 7., 3.]]),\n",
              " array([[2., 6., 7.],\n",
              "        [6., 7., 3.]], dtype=float32))"
            ]
          },
          "metadata": {},
          "execution_count": 73
        }
      ]
    },
    {
      "cell_type": "code",
      "source": [
        "# adding seed\n",
        "random_seed = 3\n",
        "torch.manual_seed(random_seed)\n",
        "arr_a = torch.randint(low=1, high=5, size=(2,3))\n",
        "torch.manual_seed(random_seed)\n",
        "arr_b = torch.randint(low=1, high=5, size=(2,3))\n",
        "\n",
        "print(arr_a)\n",
        "print(arr_b)"
      ],
      "metadata": {
        "colab": {
          "base_uri": "https://localhost:8080/"
        },
        "id": "6649EMUTY0V8",
        "outputId": "43163bd4-e20d-4a03-b5f9-2b0a99aa3fca"
      },
      "execution_count": 79,
      "outputs": [
        {
          "output_type": "stream",
          "name": "stdout",
          "text": [
            "tensor([[3, 1, 2],\n",
            "        [4, 1, 1]])\n",
            "tensor([[3, 1, 2],\n",
            "        [4, 1, 1]])\n"
          ]
        }
      ]
    },
    {
      "cell_type": "markdown",
      "source": [
        "Working with GPU\n"
      ],
      "metadata": {
        "id": "ctG3yxCpcG9d"
      }
    },
    {
      "cell_type": "code",
      "source": [
        "!nvidia-smi"
      ],
      "metadata": {
        "colab": {
          "base_uri": "https://localhost:8080/"
        },
        "id": "2oMbHmtobgpn",
        "outputId": "984efe74-2a2d-4eb4-94a7-745e5c2cbf5c"
      },
      "execution_count": 2,
      "outputs": [
        {
          "output_type": "stream",
          "name": "stdout",
          "text": [
            "Mon Sep 29 07:45:25 2025       \n",
            "+-----------------------------------------------------------------------------------------+\n",
            "| NVIDIA-SMI 550.54.15              Driver Version: 550.54.15      CUDA Version: 12.4     |\n",
            "|-----------------------------------------+------------------------+----------------------+\n",
            "| GPU  Name                 Persistence-M | Bus-Id          Disp.A | Volatile Uncorr. ECC |\n",
            "| Fan  Temp   Perf          Pwr:Usage/Cap |           Memory-Usage | GPU-Util  Compute M. |\n",
            "|                                         |                        |               MIG M. |\n",
            "|=========================================+========================+======================|\n",
            "|   0  NVIDIA A100-SXM4-40GB          Off |   00000000:00:04.0 Off |                    0 |\n",
            "| N/A   32C    P0             46W /  400W |       0MiB /  40960MiB |      0%      Default |\n",
            "|                                         |                        |             Disabled |\n",
            "+-----------------------------------------+------------------------+----------------------+\n",
            "                                                                                         \n",
            "+-----------------------------------------------------------------------------------------+\n",
            "| Processes:                                                                              |\n",
            "|  GPU   GI   CI        PID   Type   Process name                              GPU Memory |\n",
            "|        ID   ID                                                               Usage      |\n",
            "|=========================================================================================|\n",
            "|  No running processes found                                                             |\n",
            "+-----------------------------------------------------------------------------------------+\n"
          ]
        }
      ]
    },
    {
      "cell_type": "code",
      "source": [
        "torch.cuda.is_available(), torch.cuda.device_count()\n",
        "\n",
        "device = \"cuda\" if torch.cuda.is_available() else \"cpu\"\n",
        "\n",
        "normal_tensor = torch.randint(low=2,high=100, size=(3,4))\n",
        "print(normal_tensor, normal_tensor.device)\n",
        "gpu_tensor = normal_tensor.to(device)\n",
        "print(gpu_tensor, gpu_tensor.device)\n",
        "\n",
        "# If you want to convert them back to cpu in cases where you want to work with numpy\n",
        "returned_back = gpu_tensor.cpu().numpy()\n",
        "returned_back"
      ],
      "metadata": {
        "colab": {
          "base_uri": "https://localhost:8080/"
        },
        "id": "wl2zOzw-cJt_",
        "outputId": "e85a5ff1-5879-458e-b2ec-410b52c69f39"
      },
      "execution_count": 11,
      "outputs": [
        {
          "output_type": "stream",
          "name": "stdout",
          "text": [
            "tensor([[ 9, 24, 93,  3],\n",
            "        [60,  6, 24, 10],\n",
            "        [46, 80, 76,  4]]) cpu\n",
            "tensor([[ 9, 24, 93,  3],\n",
            "        [60,  6, 24, 10],\n",
            "        [46, 80, 76,  4]], device='cuda:0') cuda:0\n"
          ]
        },
        {
          "output_type": "execute_result",
          "data": {
            "text/plain": [
              "array([[ 9, 24, 93,  3],\n",
              "       [60,  6, 24, 10],\n",
              "       [46, 80, 76,  4]])"
            ]
          },
          "metadata": {},
          "execution_count": 11
        }
      ]
    }
  ]
}